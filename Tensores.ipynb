{
  "nbformat": 4,
  "nbformat_minor": 0,
  "metadata": {
    "colab": {
      "name": "Tensores.ipynb",
      "provenance": [],
      "authorship_tag": "ABX9TyP4yXeqMf9iMlJ0izw9Csul"
    },
    "kernelspec": {
      "name": "python3",
      "display_name": "Python 3"
    },
    "language_info": {
      "name": "python"
    }
  },
  "cells": [
    {
      "cell_type": "code",
      "metadata": {
        "colab": {
          "base_uri": "https://localhost:8080/"
        },
        "id": "Z-VKZxP0Uypf",
        "outputId": "9b8c0911-8b5b-4bc6-eb0c-c4450f96766f"
      },
      "source": [
        "import torch\n",
        "\n",
        "lista = [[1,2,3],\n",
        "         [4,8,6]]\n",
        "\n",
        "tns = torch.Tensor(lista)\n",
        "print(tns.dtype)"
      ],
      "execution_count": 2,
      "outputs": [
        {
          "output_type": "stream",
          "name": "stdout",
          "text": [
            "torch.float32\n"
          ]
        }
      ]
    }
  ]
}